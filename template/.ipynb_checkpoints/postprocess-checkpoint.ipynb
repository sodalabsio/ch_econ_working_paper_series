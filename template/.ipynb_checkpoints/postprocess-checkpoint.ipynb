{
 "cells": [
  {
   "cell_type": "code",
   "execution_count": 2,
   "metadata": {},
   "outputs": [],
   "source": [
    "import boto3\n",
    "import json\n",
    "import base64\n",
    "import io\n",
    "import pdfkit\n",
    "# import required classes\n",
    " \n",
    "# from PIL import Image, ImageDraw, ImageFont"
   ]
  },
  {
   "cell_type": "code",
   "execution_count": 3,
   "metadata": {},
   "outputs": [],
   "source": [
    "BUCKET_NAME = 'monash-ch-econ-wps'\n",
    "TEMPLATE_PATH = 'template/wp_cover_static.png'\n",
    "\n",
    "session = boto3.Session(profile_name='soda-user') # specify user here\n",
    "s3 = session.client('s3')"
   ]
  },
  {
   "cell_type": "code",
   "execution_count": 4,
   "metadata": {},
   "outputs": [],
   "source": [
    "obj = s3.get_object(Bucket=BUCKET_NAME, Key=TEMPLATE_PATH)\n",
    "img = obj['Body'].read()      \n",
    "b64_img = base64.b64encode(img).decode()"
   ]
  },
  {
   "cell_type": "code",
   "execution_count": null,
   "metadata": {},
   "outputs": [],
   "source": [
    "html = f\"\"\"\n",
    "        <!DOCTYPE html>\n",
    "        <html>\n",
    "          <head>\n",
    "            <title>Monash Econ WP Series</title>\n",
    "            <link rel=\"preconnect\" href=\"https://fonts.gstatic.com\">\n",
    "            <link href=\"https://fonts.googleapis.com/css2?family=Roboto+Condensed:ital,wght@0,300;0,400;0,700;1,300;1,400;1,700&display=swap\" rel=\"stylesheet\">\n",
    "            <style>\n",
    "            img {{\n",
    "                height: 1500px\n",
    "            }}\n",
    "            .container {{\n",
    "              position: relative;\n",
    "            }}\n",
    "            div.paper {{\n",
    "                position: absolute;\n",
    "                top: 290px;\n",
    "                left: 125px;\n",
    "                width: 823px;\n",
    "                max-width: 823px;\n",
    "            }}\n",
    "            p {{\n",
    "                color: #414141;\n",
    "                font-family: 'Roboto Condensed';\n",
    "            }}\n",
    "            p.title {{\n",
    "                border-style: solid none solid none;\n",
    "                border-width: thin;\n",
    "                font-size: 18pt;\n",
    "                font-weight: 900;\n",
    "                text-align: center;\n",
    "                padding-top: 25px;\n",
    "                padding-bottom: 25px;\n",
    "            }}\n",
    "            p.paper-no {{ \n",
    "                font-size: 15pt;\n",
    "                text-align: center;\n",
    "            }}\n",
    "            p.author {{ \n",
    "                font-size: 18pt;\n",
    "                text-align: center;\n",
    "            }}\n",
    "            p.abstract-fixed {{ \n",
    "                font-size: 15pt;\n",
    "            }}\n",
    "            p.abstract {{ \n",
    "                font-size: 15pt;\n",
    "                text-align: justify;\n",
    "            }}\n",
    "            p.keywords {{ \n",
    "                font-size: 15pt;\n",
    "                text-align: left;\n",
    "            }}\n",
    "            p.jel-codes {{ \n",
    "                font-size: 15pt;\n",
    "                text-align: left;\n",
    "            }}\n",
    "            p.affiliation {{ \n",
    "                font-size: 15pt;\n",
    "                text-align: left;\n",
    "            }}\n",
    "            </style>\n",
    "          </head>\n",
    "          <body>\n",
    "            <div class=\"container\">\n",
    "              <img src=\"{url}\" alt=\"econ wp background\"/>\n",
    "              <div class=\"paper\">\n",
    "              <p class=\"title\">{title}</p>\n",
    "              <p class=\"paper-no\">Discussion Paper no. <a href='{link}'>{wpn}</a></p>\n",
    "              <p class=\"author\"><b>{authors_inline}</b></p>\n",
    "              <p class=\"abstract-fixed\"><b>Abstract:</b></p>\n",
    "              <p class=\"abstract\">{abstract}</p>\n",
    "              <p class=\"keywords\"><b>Keywords: </b>{keywords}</p>\n",
    "              <p class=\"jel-codes\"><b>JEL Classification: </b>{jel_codes}</p>\n",
    "              <p class=\"affiliation\">{affiliation}</p>\n",
    "              </div>\n",
    "              </div>\n",
    "            </body>\n",
    "        </html>\n",
    "        \"\"\"\n",
    "\n",
    "open('output.html', 'w').write(html)"
   ]
  },
  {
   "cell_type": "markdown",
   "metadata": {},
   "source": [
    "                background-image: url(data:image/jpeg;base64,{});\n",
    "                background-repeat: no-repeat;\n",
    "                background-attachment: fixed;\n",
    "                background-size: 100% 100%;"
   ]
  },
  {
   "cell_type": "markdown",
   "metadata": {},
   "source": [
    "paper title: Roboto Condensed // Regular // 23pt  \n",
    "Author names: Roboto Condensed // Light // 15pt  \n",
    "“SoDa Laboratories .. Series .. No. 2017-01”: Roboto Condensed // Light // 13pt  \n",
    "Ref/Pub online stuff: Roboto Condensed // Light // 10pt  [“REF” + “PUBLISHED ONLINE” / Regular]  "
   ]
  },
  {
   "cell_type": "code",
   "execution_count": 5,
   "metadata": {},
   "outputs": [
    {
     "data": {
      "text/plain": [
       "{'affiliations': ['Monash University', 'asas'],\n",
       " 'emails': ['satyabratborgohain@gmail.com', 'satya.borgohain@monash.edu'],\n",
       " 'names': ['sas', 'dffd']}"
      ]
     },
     "execution_count": 5,
     "metadata": {},
     "output_type": "execute_result"
    }
   ],
   "source": [
    "author = dict(affiliations=[\"Monash University\", \"asas\"],\n",
    "emails=[\"satyabratborgohain@gmail.com\", \"satya.borgohain@monash.edu\"],\n",
    "names=[\"sas\", \"dffd\"])\n",
    "author"
   ]
  },
  {
   "cell_type": "code",
   "execution_count": 6,
   "metadata": {},
   "outputs": [
    {
     "data": {
      "text/plain": [
       "3"
      ]
     },
     "execution_count": 6,
     "metadata": {},
     "output_type": "execute_result"
    }
   ],
   "source": [
    "len(author)"
   ]
  },
  {
   "cell_type": "code",
   "execution_count": 7,
   "metadata": {},
   "outputs": [],
   "source": [
    "author = ['satya', 'Monash', 'satya@com', 'jin', 'Monash', 'jin@com', 'xyz', 'monash', 'xyz.com']\n",
    "names, affiliations, emails = list(zip(*[author[x: x+3] for x in range(0, len(author), 3)]))"
   ]
  },
  {
   "cell_type": "code",
   "execution_count": 8,
   "metadata": {
    "scrolled": true
   },
   "outputs": [
    {
     "data": {
      "text/plain": [
       "[{'name': 'satya', 'affiliation': 'Monash', 'email': 'satya@com'},\n",
       " {'name': 'jin', 'affiliation': 'Monash', 'email': 'jin@com'},\n",
       " {'name': 'xyz', 'affiliation': 'monash', 'email': 'xyz.com'}]"
      ]
     },
     "execution_count": 8,
     "metadata": {},
     "output_type": "execute_result"
    }
   ],
   "source": [
    "[dict(name=author[i], affiliation=author[i+1], email=author[i+2]) for\n",
    "                    i in range(0, len(author), 3)]"
   ]
  },
  {
   "cell_type": "code",
   "execution_count": 9,
   "metadata": {},
   "outputs": [
    {
     "data": {
      "text/plain": [
       "[{'name': 'satya', 'affiliation': 'Monash', 'email': 'satya@com'},\n",
       " {'name': 'jin', 'affiliation': 'Monash', 'email': 'jin@com'},\n",
       " {'name': 'xyz', 'affiliation': 'monash', 'email': 'xyz.com'}]"
      ]
     },
     "execution_count": 9,
     "metadata": {},
     "output_type": "execute_result"
    }
   ],
   "source": [
    "[dict(name=names[i], affiliation=affiliations[i], email=emails[i]) for i in range(len(names))]"
   ]
  },
  {
   "cell_type": "code",
   "execution_count": 10,
   "metadata": {},
   "outputs": [
    {
     "data": {
      "text/plain": [
       "[{'name': 'satya', 'affiliation': 'jin', 'email': 'xyz'},\n",
       " {'name': 'Monash', 'affiliation': 'Monash', 'email': 'monash'},\n",
       " {'name': 'satya@com', 'affiliation': 'jin@com', 'email': 'xyz.com'}]"
      ]
     },
     "execution_count": 10,
     "metadata": {},
     "output_type": "execute_result"
    }
   ],
   "source": [
    "\n",
    "[{'name':a, 'affiliation':b, 'email': c} for a,b,c in zip(*[author[x: x+3] for x in range(0, len(author), 3)])]"
   ]
  },
  {
   "cell_type": "code",
   "execution_count": 11,
   "metadata": {},
   "outputs": [
    {
     "ename": "SyntaxError",
     "evalue": "unexpected EOF while parsing (<ipython-input-11-a31a8e9398c5>, line 6)",
     "output_type": "error",
     "traceback": [
      "\u001b[0;36m  File \u001b[0;32m\"<ipython-input-11-a31a8e9398c5>\"\u001b[0;36m, line \u001b[0;32m6\u001b[0m\n\u001b[0;31m    \u001b[0m\n\u001b[0m    ^\u001b[0m\n\u001b[0;31mSyntaxError\u001b[0m\u001b[0;31m:\u001b[0m unexpected EOF while parsing\n"
     ]
    }
   ],
   "source": [
    "\n",
    "new = {}\n",
    "for i, a in enumerate(author):\n",
    "    assert len(author) % 3 == 0\n",
    "    # at every third element\n",
    "    if (i+1) % 3 == 0:\n",
    "        "
   ]
  },
  {
   "cell_type": "code",
   "execution_count": 12,
   "metadata": {},
   "outputs": [],
   "source": [
    "assert len(author) % 3 == 0"
   ]
  },
  {
   "cell_type": "code",
   "execution_count": 13,
   "metadata": {},
   "outputs": [
    {
     "ename": "TypeError",
     "evalue": "list indices must be integers or slices, not str",
     "output_type": "error",
     "traceback": [
      "\u001b[0;31m---------------------------------------------------------------------------\u001b[0m",
      "\u001b[0;31mTypeError\u001b[0m                                 Traceback (most recent call last)",
      "\u001b[0;32m<ipython-input-13-81efb8fa9fdc>\u001b[0m in \u001b[0;36m<module>\u001b[0;34m\u001b[0m\n\u001b[0;32m----> 1\u001b[0;31m \u001b[0mlist\u001b[0m\u001b[0;34m(\u001b[0m\u001b[0mzip\u001b[0m\u001b[0;34m(\u001b[0m\u001b[0mauthor\u001b[0m\u001b[0;34m[\u001b[0m\u001b[0;34m'affiliations'\u001b[0m\u001b[0;34m]\u001b[0m\u001b[0;34m,\u001b[0m \u001b[0mauthor\u001b[0m\u001b[0;34m[\u001b[0m\u001b[0;34m'emails'\u001b[0m\u001b[0;34m]\u001b[0m\u001b[0;34m,\u001b[0m \u001b[0mauthor\u001b[0m\u001b[0;34m[\u001b[0m\u001b[0;34m'names'\u001b[0m\u001b[0;34m]\u001b[0m\u001b[0;34m)\u001b[0m\u001b[0;34m)\u001b[0m\u001b[0;34m\u001b[0m\u001b[0;34m\u001b[0m\u001b[0m\n\u001b[0m",
      "\u001b[0;31mTypeError\u001b[0m: list indices must be integers or slices, not str"
     ]
    }
   ],
   "source": [
    "list(zip(author['affiliations'], author['emails'], author['names']))"
   ]
  },
  {
   "cell_type": "code",
   "execution_count": 14,
   "metadata": {},
   "outputs": [
    {
     "ename": "TypeError",
     "evalue": "list indices must be integers or slices, not str",
     "output_type": "error",
     "traceback": [
      "\u001b[0;31m---------------------------------------------------------------------------\u001b[0m",
      "\u001b[0;31mTypeError\u001b[0m                                 Traceback (most recent call last)",
      "\u001b[0;32m<ipython-input-14-a7eec41580bf>\u001b[0m in \u001b[0;36m<module>\u001b[0;34m\u001b[0m\n\u001b[0;32m----> 1\u001b[0;31m \u001b[0mauthors\u001b[0m \u001b[0;34m=\u001b[0m \u001b[0;34m[\u001b[0m\u001b[0;34m{\u001b[0m\u001b[0;34m'name'\u001b[0m\u001b[0;34m:\u001b[0m\u001b[0ma\u001b[0m\u001b[0;34m,\u001b[0m \u001b[0;34m'affiliation'\u001b[0m\u001b[0;34m:\u001b[0m\u001b[0mb\u001b[0m\u001b[0;34m,\u001b[0m \u001b[0;34m'email'\u001b[0m\u001b[0;34m:\u001b[0m \u001b[0mc\u001b[0m\u001b[0;34m}\u001b[0m \u001b[0;32mfor\u001b[0m \u001b[0ma\u001b[0m\u001b[0;34m,\u001b[0m\u001b[0mb\u001b[0m\u001b[0;34m,\u001b[0m\u001b[0mc\u001b[0m \u001b[0;32min\u001b[0m \u001b[0mzip\u001b[0m\u001b[0;34m(\u001b[0m\u001b[0mauthor\u001b[0m\u001b[0;34m[\u001b[0m\u001b[0;34m'names'\u001b[0m\u001b[0;34m]\u001b[0m\u001b[0;34m,\u001b[0m \u001b[0mauthor\u001b[0m\u001b[0;34m[\u001b[0m\u001b[0;34m'affiliations'\u001b[0m\u001b[0;34m]\u001b[0m\u001b[0;34m,\u001b[0m \u001b[0mauthor\u001b[0m\u001b[0;34m[\u001b[0m\u001b[0;34m'emails'\u001b[0m\u001b[0;34m]\u001b[0m\u001b[0;34m)\u001b[0m\u001b[0;34m]\u001b[0m\u001b[0;34m\u001b[0m\u001b[0;34m\u001b[0m\u001b[0m\n\u001b[0m",
      "\u001b[0;31mTypeError\u001b[0m: list indices must be integers or slices, not str"
     ]
    }
   ],
   "source": [
    "authors = [{'name':a, 'affiliation':b, 'email': c} for a,b,c in zip(author['names'], author['affiliations'], author['emails'])]"
   ]
  },
  {
   "cell_type": "code",
   "execution_count": 15,
   "metadata": {},
   "outputs": [],
   "source": [
    "authors = [dict(name=\"Klaus Ackermann\", affiliation=\"Monash University\", email=\"klaus.ackermann@monash.edu\"),\n",
    "           dict(name=\"Simon D Angus\", affiliation=\"Monash University\", email=\"simon.angus@monash.edu\"),\n",
    "           dict(name=\"Paul Raschky\", affiliation=\"Monash University\", email=\"paul.raschky@monash.edu\")\n",
    "           ]"
   ]
  },
  {
   "cell_type": "code",
   "execution_count": 16,
   "metadata": {},
   "outputs": [
    {
     "name": "stdout",
     "output_type": "stream",
     "text": [
      "2\n"
     ]
    },
    {
     "data": {
      "text/plain": [
       "'Klaus Ackermann, Simon D Angus and Paul Raschky'"
      ]
     },
     "execution_count": 16,
     "metadata": {},
     "output_type": "execute_result"
    }
   ],
   "source": [
    "authors_inline = \"\"\n",
    "\n",
    "for i, author in enumerate(authors):\n",
    "    if i != len(authors)-1:\n",
    "        authors_inline += f\"{author['name']}\"\n",
    "        if i != len(authors)-2: authors_inline += \", \"\n",
    "    else:\n",
    "        print(i)\n",
    "        authors_inline += f\" and {author['name']}\" \n",
    "        \n",
    "authors_inline"
   ]
  },
  {
   "cell_type": "code",
   "execution_count": 17,
   "metadata": {},
   "outputs": [],
   "source": [
    "title = \"The Internet as Quantitative Social Science Platform: Insights from a Trillion Observations\"\n",
    "# authors = \"Ackermann, Klaus, Angus, Simon D, Raschky, Paul A\"\n",
    "wpn = \"2017-01\"\n",
    "year = '2017'\n",
    "link = 'https://s3.soda-public/working-papers/2020-01.pdf'\n",
    "# ref = authors + ',' + '(' + wpn.split('-')[0] + '), ' +  'Monash Econ Working Paper Series No. ' + wpn + ', Monash Business School, available at ' + link\n",
    "# print(ref)\n",
    "pub_online = '17 January 2017' # get date/parse to dd mon yyy\n",
    "abstract = \"\"\"With the large-scale penetration of the internet, for the first time, humanity has become linked by\n",
    "a single, open, communications platform. Harnessing this fact, we report insights arising from a\n",
    "unified internet activity and location dataset of an unparalleled scope and accuracy drawn from\n",
    "over a trillion (1.5 x 10 12 ) observations of end-user internet connections, with temporal resolution of\n",
    "just 15min over 2006-2012. We first apply this dataset to the expansion of the internet itself over\n",
    "1,647 urban agglomerations globally[1]. We find that unique IP per capita counts reach saturation\n",
    "at approximately one IP per three people, and take, on average, 16.1 years to achieve; eclipsing the\n",
    "estimated 100- and 60- year saturation times for steam-power and electrification respectively[29].\n",
    "Next, we use intra-diurnal internet activity features to up-scale traditional over-night sleep observa-\n",
    "tions, producing the first global estimate of over-night sleep duration in 645 cities over 7 years[36].\n",
    "We find statistically significant variation between continental, national and regional sleep durations\n",
    "including some evidence of global sleep duration convergence. Finally, we estimate the relationship\n",
    "between internet concentration and economic outcomes in 411 OECD regions and find that the in-\n",
    "ternet's expansion is associated with negative or positive productivity gains, depending strongly on\n",
    "sectoral considerations. To our knowledge, our study is the first of its kind to use online/offline ac-\n",
    "tivity of the entire internet to infer social science insights, demonstrating the unparalleled potential\n",
    "of the internet as a social data-science platform.\"\"\""
   ]
  },
  {
   "cell_type": "code",
   "execution_count": 18,
   "metadata": {},
   "outputs": [
    {
     "ename": "NameError",
     "evalue": "name 'authors_text' is not defined",
     "output_type": "error",
     "traceback": [
      "\u001b[0;31m---------------------------------------------------------------------------\u001b[0m",
      "\u001b[0;31mNameError\u001b[0m                                 Traceback (most recent call last)",
      "\u001b[0;32m<ipython-input-18-f331b1e7a56f>\u001b[0m in \u001b[0;36m<module>\u001b[0;34m\u001b[0m\n\u001b[1;32m    107\u001b[0m               \u001b[0;34m<\u001b[0m\u001b[0mhr\u001b[0m\u001b[0;34m>\u001b[0m\u001b[0;34m<\u001b[0m\u001b[0;34m/\u001b[0m\u001b[0mhr\u001b[0m\u001b[0;34m>\u001b[0m\u001b[0;34m\u001b[0m\u001b[0;34m\u001b[0m\u001b[0m\n\u001b[1;32m    108\u001b[0m               \u001b[0;34m<\u001b[0m\u001b[0mdiv\u001b[0m \u001b[0;32mclass\u001b[0m\u001b[0;34m=\u001b[0m\u001b[0;34m\"paper-title wrap-text\"\u001b[0m\u001b[0;34m>\u001b[0m\u001b[0;34m{\u001b[0m\u001b[0mtitle\u001b[0m\u001b[0;34m}\u001b[0m\u001b[0;34m<\u001b[0m\u001b[0;34m/\u001b[0m\u001b[0mdiv\u001b[0m\u001b[0;34m>\u001b[0m\u001b[0;34m\u001b[0m\u001b[0;34m\u001b[0m\u001b[0m\n\u001b[0;32m--> 109\u001b[0;31m               \u001b[0;34m<\u001b[0m\u001b[0mdiv\u001b[0m \u001b[0;32mclass\u001b[0m\u001b[0;34m=\u001b[0m\u001b[0;34m\"author-names wrap-text\"\u001b[0m\u001b[0;34m>\u001b[0m\u001b[0;34m{\u001b[0m\u001b[0mauthors_text\u001b[0m\u001b[0;34m}\u001b[0m\u001b[0;34m<\u001b[0m\u001b[0;34m/\u001b[0m\u001b[0mdiv\u001b[0m\u001b[0;34m>\u001b[0m\u001b[0;34m\u001b[0m\u001b[0;34m\u001b[0m\u001b[0m\n\u001b[0m\u001b[1;32m    110\u001b[0m               \u001b[0;34m<\u001b[0m\u001b[0mdiv\u001b[0m \u001b[0;32mclass\u001b[0m\u001b[0;34m=\u001b[0m\u001b[0;34m\"wps-a wrap-text\"\u001b[0m\u001b[0;34m>\u001b[0m\u001b[0mAbstract\u001b[0m\u001b[0;34m<\u001b[0m\u001b[0;34m/\u001b[0m\u001b[0mdiv\u001b[0m\u001b[0;34m>\u001b[0m\u001b[0;34m\u001b[0m\u001b[0;34m\u001b[0m\u001b[0m\n\u001b[1;32m    111\u001b[0m               \u001b[0;34m<\u001b[0m\u001b[0mdiv\u001b[0m \u001b[0;32mclass\u001b[0m\u001b[0;34m=\u001b[0m\u001b[0;34m\"wps-abs wrap-text-inner\"\u001b[0m\u001b[0;34m>\u001b[0m\u001b[0;34m{\u001b[0m\u001b[0mabstract\u001b[0m\u001b[0;34m}\u001b[0m\u001b[0;34m<\u001b[0m\u001b[0;34m/\u001b[0m\u001b[0mdiv\u001b[0m\u001b[0;34m>\u001b[0m\u001b[0;34m\u001b[0m\u001b[0;34m\u001b[0m\u001b[0m\n",
      "\u001b[0;31mNameError\u001b[0m: name 'authors_text' is not defined"
     ]
    }
   ],
   "source": [
    "html = f\"\"\"\n",
    "        <!DOCTYPE html>\n",
    "        <html>\n",
    "          <head>\n",
    "            <title>Monash Econ WP Series</title>\n",
    "            <link href='https://fonts.googleapis.com/css?family=Roboto Condensed' rel='stylesheet'>\n",
    "            <style>\n",
    "            hr {{\n",
    "                position: absolute;\n",
    "                top: 440px;\n",
    "                left: 584px;\n",
    "                height: 1px;\n",
    "                border: 0;\n",
    "                border-top: 1px solid #ccc;\n",
    "                margin: 1em auto;\n",
    "                padding: 0;\n",
    "            }}\n",
    "            .wp-template {{\n",
    "              background: url('data:image/png;base64, {b64_img}');\n",
    "              background-size: cover;\n",
    "              padding: 2rem;\n",
    "              text-align: center;\n",
    "            }}\n",
    "            .custom-margin {{\n",
    "                margin-right: 10px;\n",
    "                margin-left: 10px;\n",
    "            }}\n",
    "            .wrap-text {{\n",
    "                max-width: 900px;\n",
    "            }}\n",
    "            .wrap-text-inner {{\n",
    "                max-width: 1085px;\n",
    "            }}\n",
    "            .text-color {{\n",
    "                color: gray;\n",
    "            }}\n",
    "            .paper-title {{\n",
    "                position: absolute;\n",
    "                top: 540px;\n",
    "                left: 235px;\n",
    "                font-family: 'Roboto Condensed';\n",
    "                font-size: 25pt;\n",
    "                font-weight: 400;\n",
    "            }}\n",
    "            .author-names {{\n",
    "                position: absolute;\n",
    "                top: 690px;\n",
    "                left: 465px;\n",
    "                font-family: 'Roboto Condensed';\n",
    "                font-size: 18pt;\n",
    "                font-weight: 300;\n",
    "            }}\n",
    "            .wps-a {{\n",
    "                position: absolute;\n",
    "                top: 800px;\n",
    "                left: 163px;\n",
    "                font-family: 'Roboto Condensed';\n",
    "                font-size: 25pt;\n",
    "                font-weight: 300;\n",
    "            }}\n",
    "            .wps-abs {{\n",
    "                position: absolute;\n",
    "                top: 850px;\n",
    "                left: 163px;\n",
    "                font-family: 'Roboto Condensed';\n",
    "                font-size: 18pt;\n",
    "                font-weight: 300;\n",
    "            }}\n",
    "            .wpn {{\n",
    "                  position: absolute;\n",
    "                    top: 440px;\n",
    "                    left: 584px;\n",
    "                    font-family: 'Roboto Condensed';\n",
    "                    font-size: 23pt;\n",
    "            }}\n",
    "            .ref-a {{\n",
    "                position: absolute;\n",
    "                top: 1522px;\n",
    "                left: 163px;\n",
    "                font-family: 'Roboto Condensed';\n",
    "                font-size: 15pt;\n",
    "            }}\n",
    "            .ref-b {{\n",
    "                position: absolute;\n",
    "                top: 1200px;\n",
    "                left: 163px;\n",
    "                font-family: 'Roboto Condensed';\n",
    "                font-size: 15pt;\n",
    "            }}\n",
    "            .pub-a {{\n",
    "              position: absolute;\n",
    "              top: 1045px;\n",
    "              left: 60px;\n",
    "              font-family: 'Roboto Condensed';font-size: 12pt;\n",
    "            }}\n",
    "            .pub-b {{\n",
    "              position: absolute;\n",
    "              top: 1075px;\n",
    "              left: 60px;\n",
    "              font-family: 'Roboto Condensed';font-size: 15pt;\n",
    "            }}\n",
    "        </style>\n",
    "          </head>\n",
    "          <body>\n",
    "          <div class=\"wp-template\">\n",
    "              <div class=\"wpn\">Paper No. {wpn}</div>\n",
    "              <hr></hr>\n",
    "              <div class=\"paper-title wrap-text\">{title}</div>\n",
    "              <div class=\"author-names wrap-text\">{authors_text}</div>\n",
    "              <div class=\"wps-a wrap-text\">Abstract</div>\n",
    "              <div class=\"wps-abs wrap-text-inner\">{abstract}</div>\n",
    "        \"\"\"\n",
    "#               /* <div class=\"ref-b wrap-text\">{ref}</div> */\n",
    "#             <img src=\"data:image/png;base64, {b64_img}\" alt=\"wp-background\" />"
   ]
  },
  {
   "cell_type": "markdown",
   "metadata": {},
   "source": [
    "https://www.odoo.com/forum/help-1/background-image-working-in-html-report-but-not-in-pdf-report-54125"
   ]
  },
  {
   "cell_type": "code",
   "execution_count": 92,
   "metadata": {},
   "outputs": [
    {
     "data": {
      "text/plain": [
       "404847"
      ]
     },
     "execution_count": 92,
     "metadata": {},
     "output_type": "execute_result"
    }
   ],
   "source": [
    "url = 'https://github.com/sodalabsio/econ_working_paper_series/raw/main/monash-econ-wps/template/wp_cover_static.png'\n",
    "\n",
    "html = f\"\"\"\n",
    "<!DOCTYPE html>\n",
    "<html>\n",
    "<head>\n",
    "<title>Monash Econ WP Series</title>\n",
    "<link href='https://fonts.googleapis.com/css?family=Roboto Condensed' rel='stylesheet'>\n",
    "<style>\n",
    "body {{\n",
    "  background-image: url('data:image/png;base64, {b64_img}');\n",
    "  background-position: left top;\n",
    "  background-repeat: no-repeat;\n",
    "  background-attachment: fixed;  \n",
    "  background-size: auto 100%;\n",
    "}}\n",
    "</style>\n",
    "</head>\n",
    "<body>\n",
    "<h2>Monash Econ WPS</h2>\n",
    "</body>\n",
    "</html>\n",
    "\"\"\"\n",
    "\n",
    "# <h2>Background Cover</h2>\n",
    "\n",
    "# <p>Set the background-size property to \"cover\" and the background image will cover the entire element, in this case the body element.</p>\n",
    "# <hr/>\n",
    "\n",
    "open('output.html', 'w').write(html)"
   ]
  },
  {
   "cell_type": "code",
   "execution_count": 251,
   "metadata": {},
   "outputs": [],
   "source": [
    "title = \"The Internet as Quantitative Social Science Platform: Insights from a Trillion Observations\"\n",
    "# title = \"Lorem ipsum dolor sit amet, consectetur adipiscing elit, sed do eiusmod tempor incididunt ut\\\n",
    "# labore et dolore magna aliqua. Ut enim ad minim veniam, quis nostrud exercitation ullamco laboris nisi\\\n",
    "# ut aliquip ex ea commodo consequat. orem ipsum dolor sit amet, consectetur adipiscing elit, sed do eiusmod\\\n",
    "# tempor incididunt ut labor \"\n",
    "keywords = \"big-data, diffusion of technology, chronobiology, economic growth\"\n",
    "jel_codes = \"A12, B32, J15\""
   ]
  },
  {
   "cell_type": "code",
   "execution_count": 252,
   "metadata": {},
   "outputs": [
    {
     "name": "stdout",
     "output_type": "stream",
     "text": [
      "Klaus Ackermann: Monash University (email: <a href=\"mailto:klaus.ackermann@monash.edu\">klaus.ackermann@monash.edu</a>); Simon D Angus: Monash University (email: <a href=\"mailto:simon.angus@monash.edu\">simon.angus@monash.edu</a>); Paul Raschky: Monash University (email: <a href=\"mailto:paul.raschky@monash.edu\">paul.raschky@monash.edu</a>).\n"
     ]
    }
   ],
   "source": [
    "affiliation = \"\"\n",
    "for i, author in enumerate(authors):\n",
    "    affiliation += f\"{author['name']}: {author['affiliation']} (email: <a href=\\\"mailto:{author['email']}\\\">{author['email']}</a>)\"\n",
    "    if i != len(authors)-1:\n",
    "        affiliation += \"; \"\n",
    "    else:\n",
    "        affiliation += \".\"\n",
    "    \n",
    "print(affiliation)"
   ]
  },
  {
   "cell_type": "code",
   "execution_count": null,
   "metadata": {},
   "outputs": [],
   "source": []
  },
  {
   "cell_type": "code",
   "execution_count": 19,
   "metadata": {},
   "outputs": [
    {
     "ename": "NameError",
     "evalue": "name 'url' is not defined",
     "output_type": "error",
     "traceback": [
      "\u001b[0;31m---------------------------------------------------------------------------\u001b[0m",
      "\u001b[0;31mNameError\u001b[0m                                 Traceback (most recent call last)",
      "\u001b[0;32m<ipython-input-19-33f569b42ade>\u001b[0m in \u001b[0;36m<module>\u001b[0;34m\u001b[0m\n\u001b[1;32m     64\u001b[0m           \u001b[0;34m<\u001b[0m\u001b[0mbody\u001b[0m\u001b[0;34m>\u001b[0m\u001b[0;34m\u001b[0m\u001b[0;34m\u001b[0m\u001b[0m\n\u001b[1;32m     65\u001b[0m             \u001b[0;34m<\u001b[0m\u001b[0mdiv\u001b[0m \u001b[0;32mclass\u001b[0m\u001b[0;34m=\u001b[0m\u001b[0;34m\"container\"\u001b[0m\u001b[0;34m>\u001b[0m\u001b[0;34m\u001b[0m\u001b[0;34m\u001b[0m\u001b[0m\n\u001b[0;32m---> 66\u001b[0;31m               \u001b[0;34m<\u001b[0m\u001b[0mimg\u001b[0m \u001b[0msrc\u001b[0m\u001b[0;34m=\u001b[0m\u001b[0;34m\"{url}\"\u001b[0m \u001b[0malt\u001b[0m\u001b[0;34m=\u001b[0m\u001b[0;34m\"econ wp background\"\u001b[0m\u001b[0;34m/\u001b[0m\u001b[0;34m>\u001b[0m\u001b[0;34m\u001b[0m\u001b[0;34m\u001b[0m\u001b[0m\n\u001b[0m\u001b[1;32m     67\u001b[0m               \u001b[0;34m<\u001b[0m\u001b[0mdiv\u001b[0m \u001b[0;32mclass\u001b[0m\u001b[0;34m=\u001b[0m\u001b[0;34m\"paper\"\u001b[0m\u001b[0;34m>\u001b[0m\u001b[0;34m\u001b[0m\u001b[0;34m\u001b[0m\u001b[0m\n\u001b[1;32m     68\u001b[0m               \u001b[0;34m<\u001b[0m\u001b[0mp\u001b[0m \u001b[0;32mclass\u001b[0m\u001b[0;34m=\u001b[0m\u001b[0;34m\"title\"\u001b[0m\u001b[0;34m>\u001b[0m\u001b[0;34m{\u001b[0m\u001b[0mtitle\u001b[0m\u001b[0;34m}\u001b[0m\u001b[0;34m<\u001b[0m\u001b[0;34m/\u001b[0m\u001b[0mp\u001b[0m\u001b[0;34m>\u001b[0m\u001b[0;34m\u001b[0m\u001b[0;34m\u001b[0m\u001b[0m\n",
      "\u001b[0;31mNameError\u001b[0m: name 'url' is not defined"
     ]
    }
   ],
   "source": [
    "html = f\"\"\"\n",
    "        <!DOCTYPE html>\n",
    "        <html>\n",
    "          <head>\n",
    "            <title>Monash Econ WP Series</title>\n",
    "            <link rel=\"preconnect\" href=\"https://fonts.gstatic.com\">\n",
    "            <link href=\"https://fonts.googleapis.com/css2?family=Roboto+Condensed:ital,wght@0,300;0,400;0,700;1,300;1,400;1,700&display=swap\" rel=\"stylesheet\">\n",
    "            <style>\n",
    "            img {{\n",
    "                height: 1500px\n",
    "            }}\n",
    "            .container {{\n",
    "              position: relative;\n",
    "            }}\n",
    "            div.paper {{\n",
    "                position: absolute;\n",
    "                top: 290px;\n",
    "                left: 125px;\n",
    "                width: 823px;\n",
    "                max-width: 823px;\n",
    "            }}\n",
    "            p {{\n",
    "                color: #414141;\n",
    "                font-family: 'Roboto Condensed';\n",
    "            }}\n",
    "            p.title {{\n",
    "                border-style: solid none solid none;\n",
    "                border-width: thin;\n",
    "                font-size: 18pt;\n",
    "                font-weight: 900;\n",
    "                text-align: center;\n",
    "                padding-top: 25px;\n",
    "                padding-bottom: 25px;\n",
    "            }}\n",
    "            p.paper-no {{ \n",
    "                font-size: 15pt;\n",
    "                text-align: center;\n",
    "            }}\n",
    "            p.author {{ \n",
    "                font-size: 18pt;\n",
    "                text-align: center;\n",
    "            }}\n",
    "            p.abstract-fixed {{ \n",
    "                font-size: 15pt;\n",
    "            }}\n",
    "            p.abstract {{ \n",
    "                font-size: 15pt;\n",
    "                text-align: justify;\n",
    "            }}\n",
    "            p.keywords {{ \n",
    "                font-size: 15pt;\n",
    "                text-align: left;\n",
    "            }}\n",
    "            p.jel-codes {{ \n",
    "                font-size: 15pt;\n",
    "                text-align: left;\n",
    "            }}\n",
    "            p.affiliation {{ \n",
    "                font-size: 15pt;\n",
    "                text-align: left;\n",
    "            }}\n",
    "            </style>\n",
    "          </head>\n",
    "          <body>\n",
    "            <div class=\"container\">\n",
    "              <img src=\"{url}\" alt=\"econ wp background\"/>\n",
    "              <div class=\"paper\">\n",
    "              <p class=\"title\">{title}</p>\n",
    "              <p class=\"paper-no\">Discussion Paper no. <a href='{link}'>{wpn}</a></p>\n",
    "              <p class=\"author\"><b>{authors_inline}</b></p>\n",
    "              <p class=\"abstract-fixed\"><b>Abstract:</b></p>\n",
    "              <p class=\"abstract\">{abstract}</p>\n",
    "              <p class=\"keywords\"><b>Keywords: </b>{keywords}</p>\n",
    "              <p class=\"jel-codes\"><b>JEL Classification: </b>{jel_codes}</p>\n",
    "              <p class=\"affiliation\">{affiliation}</p>\n",
    "              </div>\n",
    "              </div>\n",
    "            </body>\n",
    "        </html>\n",
    "        \"\"\"\n",
    "\n",
    "open('output.html', 'w').write(html)"
   ]
  },
  {
   "cell_type": "code",
   "execution_count": null,
   "metadata": {},
   "outputs": [],
   "source": [
    "format(url, title, link, wpn, authors_inline, abstract, keywords, jel_codes, affiliation)\n",
    "\n",
    "<img src=\"{url}\" alt=\"econ wp background\"/>\n",
    "              <div class=\"paper\">\n",
    "              <p class=\"title\">{title}</p>\n",
    "              <p class=\"paper-no\">Discussion Paper no. <a href='{link}'>{wpn}</a></p>\n",
    "              <p class=\"author\"><b>{authors_inline}</b></p>\n",
    "              <p class=\"abstract-fixed\"><b>Abstract:</b></p>\n",
    "              <p class=\"abstract\">{abstract}</p>\n",
    "              <p class=\"keywords\"><b>Keywords: </b>{keywords}</p>\n",
    "              <p class=\"jel-codes\"><b>JEL Classification: </b>{jel_codes}</p>\n",
    "              <p class=\"affiliation\">{affiliation}</p>"
   ]
  },
  {
   "cell_type": "code",
   "execution_count": 260,
   "metadata": {},
   "outputs": [
    {
     "name": "stdout",
     "output_type": "stream",
     "text": [
      "Loading page (1/2)\n",
      "[>                                                           ] 0%\r",
      "[==============================>                             ] 50%\r",
      "[==============================>                             ] 50%\r",
      "[==============================>                             ] 50%\r",
      "[============================================================] 100%\r",
      "Printing pages (2/2)                                               \n",
      "[>                                                           ] \r",
      "Done                                                           \n"
     ]
    }
   ],
   "source": [
    "pdf = pdfkit.from_string(html, False) # from_url('http://google.com', 'out.pdf')\n",
    "\n",
    "from PyPDF2 import PdfFileMerger, PdfFileReader\n",
    " \n",
    "# Call the PdfFileMerger\n",
    "mergedObject = PdfFileMerger()\n",
    "output = io.BytesIO()\n",
    "mergedObject.append(PdfFileReader(io.BytesIO(pdf)))\n",
    "mergedObject.append(PdfFileReader('sample-paper.pdf', 'rb'))\n",
    "mergedObject.write(output)\n",
    "\n",
    "# Write the stuff\n",
    "with open(\"output.pdf\", \"wb\") as f:\n",
    "    f.write(output.getbuffer())"
   ]
  },
  {
   "cell_type": "markdown",
   "metadata": {},
   "source": [
    "sudo apt-get install wkhtmltopdf"
   ]
  },
  {
   "cell_type": "code",
   "execution_count": 29,
   "metadata": {},
   "outputs": [],
   "source": []
  },
  {
   "cell_type": "code",
   "execution_count": 30,
   "metadata": {},
   "outputs": [],
   "source": []
  },
  {
   "cell_type": "code",
   "execution_count": 31,
   "metadata": {},
   "outputs": [],
   "source": []
  },
  {
   "cell_type": "code",
   "execution_count": null,
   "metadata": {},
   "outputs": [],
   "source": []
  },
  {
   "cell_type": "code",
   "execution_count": 190,
   "metadata": {},
   "outputs": [],
   "source": [
    "import PyPDF2\n",
    "pdf2File = open('research-paper.pdf', 'rb')\n",
    "pdf1Reader = PyPDF2.PdfFileReader(io.BytesIO(pdf))\n",
    "pdf2Reader = PyPDF2.PdfFileReader(pdf2File)\n",
    "pdfWriter = PyPDF2.PdfFileWriter()\n",
    "\n",
    "for pageNum in range(pdf1Reader.numPages):Ackermann, Klaus, Angus, Simon D, Raschky, Paul A,(2017), Monash Econ Working Paper Series No. 2017-01, Monash Business School, available at s3://soda-public/working-papers/2020-01.pdf\n",
    "    pageObj = pdf1Reader.getPage(pageNum)\n",
    "    pdfWriter.addPage(pageObj)\n",
    "\n",
    "for pageNum in range(pdf2Reader.numPages):\n",
    "    pageObj = pdf2Reader.getPage(pageNum)\n",
    "    pdfWriter.addPage(pageObj)\n",
    "\n",
    "pdfOutputFile = open('combinedminutes.pdf', 'wb')\n",
    "pdfWriter.write(pdfOutputFile)\n",
    "pdfOutputFile.close()\n",
    "pdf1File.close()\n",
    "pdf2File.close()"
   ]
  },
  {
   "cell_type": "code",
   "execution_count": 183,
   "metadata": {},
   "outputs": [],
   "source": [
    "import PyPDF2\n",
    "pdf1File = open('out.pdf', 'rb')\n",
    "pdf2File = open('research-paper.pdf', 'rb')\n",
    "pdf1Reader = PyPDF2.PdfFileReader(pdf1File) # pdf1File is in bytes\n",
    "pdf2Reader = PyPDF2.PdfFileReader(pdf2File)\n",
    "pdfWriter = PyPDF2.PdfFileWriter()\n",
    "\n",
    "for pageNum in range(pdf1Reader.numPages):\n",
    "    pageObj = pdf1Reader.getPage(pageNum)\n",
    "    pdfWriter.addPage(pageObj)\n",
    "\n",
    "for pageNum in range(pdf2Reader.numPages):\n",
    "    pageObj = pdf2Reader.getPage(pageNum)\n",
    "    pdfWriter.addPage(pageObj)\n",
    "\n",
    "pdfOutputFile = open('combinedminutes.pdf', 'wb')\n",
    "pdfWriter.write(pdfOutputFile)\n",
    "pdfOutputFile.close()\n",
    "pdf1File.close()\n",
    "pdf2File.close()"
   ]
  },
  {
   "cell_type": "code",
   "execution_count": 178,
   "metadata": {},
   "outputs": [
    {
     "data": {
      "text/plain": [
       "PyPDF2.pdf.PdfFileWriter"
      ]
     },
     "execution_count": 178,
     "metadata": {},
     "output_type": "execute_result"
    }
   ],
   "source": [
    "pdf"
   ]
  },
  {
   "cell_type": "code",
   "execution_count": 172,
   "metadata": {},
   "outputs": [
    {
     "data": {
      "text/plain": [
       "bytes"
      ]
     },
     "execution_count": 172,
     "metadata": {},
     "output_type": "execute_result"
    }
   ],
   "source": [
    "type(pdf)"
   ]
  },
  {
   "cell_type": "code",
   "execution_count": null,
   "metadata": {},
   "outputs": [],
   "source": [
    "              <img src=\"data:image/png;base64, {}\" alt=\"wp-background\" />"
   ]
  },
  {
   "cell_type": "code",
   "execution_count": null,
   "metadata": {},
   "outputs": [],
   "source": [
    "# create Image object with the input image\n",
    "image = Image.open('background.png')\n",
    "draw = ImageDraw.Draw(image)"
   ]
  },
  {
   "cell_type": "code",
   "execution_count": 37,
   "metadata": {},
   "outputs": [
    {
     "data": {
      "text/plain": [
       "bytes"
      ]
     },
     "execution_count": 37,
     "metadata": {},
     "output_type": "execute_result"
    }
   ],
   "source": [
    "type(img)"
   ]
  },
  {
   "cell_type": "code",
   "execution_count": 39,
   "metadata": {},
   "outputs": [],
   "source": [
    "import io"
   ]
  },
  {
   "cell_type": "code",
   "execution_count": 50,
   "metadata": {},
   "outputs": [
    {
     "ename": "UnicodeDecodeError",
     "evalue": "'utf-8' codec can't decode byte 0xa1 in position 10: invalid start byte",
     "output_type": "error",
     "traceback": [
      "\u001b[0;31m---------------------------------------------------------------------------\u001b[0m",
      "\u001b[0;31mUnicodeDecodeError\u001b[0m                        Traceback (most recent call last)",
      "\u001b[0;32m<ipython-input-50-e778367c2c59>\u001b[0m in \u001b[0;36m<module>\u001b[0;34m\u001b[0m\n\u001b[1;32m      6\u001b[0m \u001b[0mN48CXF8m2iQ3YmmKqVlRtW4MLwWACH\u001b[0m\u001b[0;34m+\u001b[0m\u001b[0mH09wdGltaXplZCBieSBVbGVhZCBTbWFydFNhdmVyIQAAOw\u001b[0m\u001b[0;34m==\u001b[0m\u001b[0;31m'\u001b[0m\u001b[0;34m\u001b[0m\u001b[0;34m\u001b[0m\u001b[0m\n\u001b[1;32m      7\u001b[0m \u001b[0;34m\u001b[0m\u001b[0m\n\u001b[0;32m----> 8\u001b[0;31m \u001b[0mim\u001b[0m \u001b[0;34m=\u001b[0m \u001b[0mImage\u001b[0m\u001b[0;34m.\u001b[0m\u001b[0mopen\u001b[0m\u001b[0;34m(\u001b[0m\u001b[0mBytesIO\u001b[0m\u001b[0;34m(\u001b[0m\u001b[0mbase64\u001b[0m\u001b[0;34m.\u001b[0m\u001b[0mb64decode\u001b[0m\u001b[0;34m(\u001b[0m\u001b[0mdata\u001b[0m\u001b[0;34m)\u001b[0m\u001b[0;34m.\u001b[0m\u001b[0mdecode\u001b[0m\u001b[0;34m(\u001b[0m\u001b[0;34m)\u001b[0m\u001b[0;34m)\u001b[0m\u001b[0;34m)\u001b[0m\u001b[0;34m\u001b[0m\u001b[0;34m\u001b[0m\u001b[0m\n\u001b[0m",
      "\u001b[0;31mUnicodeDecodeError\u001b[0m: 'utf-8' codec can't decode byte 0xa1 in position 10: invalid start byte"
     ]
    }
   ],
   "source": [
    "from PIL import Image\n",
    "from io import BytesIO\n",
    "import base64\n",
    "\n",
    "data = 'R0lGODlhDwAPAKECAAAAzMzM/////wAAACwAAAAADwAPAAACIISPeQHsrZ5ModrLl\\\n",
    "N48CXF8m2iQ3YmmKqVlRtW4MLwWACH+H09wdGltaXplZCBieSBVbGVhZCBTbWFydFNhdmVyIQAAOw=='\n",
    "im = Image.open(BytesIO(base64.b64decode(data)))"
   ]
  },
  {
   "cell_type": "code",
   "execution_count": 55,
   "metadata": {},
   "outputs": [
    {
     "data": {
      "text/plain": [
       "bytes"
      ]
     },
     "execution_count": 55,
     "metadata": {},
     "output_type": "execute_result"
    }
   ],
   "source": [
    "type(img)"
   ]
  },
  {
   "cell_type": "code",
   "execution_count": 66,
   "metadata": {},
   "outputs": [],
   "source": [
    "obj = s3.get_object(Bucket=BUCKET_NAME, Key=TEMPLATE_PATH)\n",
    "img = obj['Body'].read()    \n",
    "img = Image.open(BytesIO(img))\n",
    "draw = ImageDraw.Draw(img)"
   ]
  },
  {
   "cell_type": "markdown",
   "metadata": {},
   "source": [
    "paper title: Roboto Condensed // Regular // 23pt  \n",
    "Author names: Roboto Condensed // Light // 15pt  \n",
    "“SoDa Laboratories .. Series .. No. 2017-01”: Roboto Condensed // Light // 13pt  \n",
    "Ref/Pub online stuff: Roboto Condensed // Light // 10pt  [“REF” + “PUBLISHED ONLINE” / Regular]  "
   ]
  },
  {
   "cell_type": "code",
   "execution_count": 67,
   "metadata": {},
   "outputs": [],
   "source": [
    "?draw.text"
   ]
  },
  {
   "cell_type": "code",
   "execution_count": null,
   "metadata": {},
   "outputs": [],
   "source": [
    "# font\n",
    "# position\n",
    "# text \n",
    "\n",
    "font = ImageFont.truetype('Roboto_Condensed/RobotoCondensed-Regular.ttf', size=23)\n",
    "(x, y) = (50, 250)\n",
    "text = \"Paper Title\"\n"
   ]
  },
  {
   "cell_type": "code",
   "execution_count": 64,
   "metadata": {},
   "outputs": [],
   "source": [
    "# font\n",
    "# position\n",
    "# text \n",
    "\n",
    "\n",
    "font = ImageFont.truetype('Roboto_Condensed/RobotoCondensed-Regular.ttf', size=45)\n",
    "# starting position of the message\n",
    "(x, y) = (50, 50)\n",
    "message = \"SoDa Labs\"\n",
    "color = 'rgb(0, 0, 0)' # black color\n",
    "draw.text((x, y), message, fill=color, font=font)\n",
    "(x, y) = (150, 150)\n",
    "name = 'Satya'\n",
    "# color = color = 'rgb(0, 0, 0)' # white color\n",
    "draw.text((x, y), name, fill=color, font=font)"
   ]
  },
  {
   "cell_type": "code",
   "execution_count": 65,
   "metadata": {},
   "outputs": [],
   "source": [
    "img.show()"
   ]
  },
  {
   "cell_type": "code",
   "execution_count": null,
   "metadata": {},
   "outputs": [],
   "source": [
    "\n",
    "# create font object with the font file and specify\n",
    "# desired size\n",
    " \n",
    "font = ImageFont.truetype('Roboto-Bold.ttf', size=45)\n",
    " \n",
    "# starting position of the message\n",
    " \n",
    "(x, y) = (50, 50)\n",
    "message = \"Happy Birthday!\"\n",
    "color = 'rgb(0, 0, 0)' # black color\n",
    " \n",
    "# draw the message on the background\n",
    " \n",
    "draw.text((x, y), message, fill=color, font=font)\n",
    "(x, y) = (150, 150)\n",
    "name = 'Vinay'\n",
    "color = 'rgb(255, 255, 255)' # white color\n",
    "draw.text((x, y), name, fill=color, font=font)\n",
    " \n",
    "# save the edited image"
   ]
  },
  {
   "cell_type": "code",
   "execution_count": null,
   "metadata": {},
   "outputs": [],
   "source": [
    "from PIL import Image\n",
    "from PIL import ImageFont\n",
    "from PIL import ImageDraw \n",
    "\n",
    "img = Image.open(\"sample_in.jpg\")\n",
    "draw = ImageDraw.Draw(img)\n",
    "# font = ImageFont.truetype(<font-file>, <font-size>)\n",
    "font = ImageFont.truetype(\"sans-serif.ttf\", 16)\n",
    "# draw.text((x, y),\"Sample Text\",(r,g,b))\n",
    "draw.text((0, 0),\"Sample Text\",(255,255,255),font=font)\n",
    "# img.save('sample-out.jpg')"
   ]
  },
  {
   "cell_type": "code",
   "execution_count": 2,
   "metadata": {},
   "outputs": [
    {
     "name": "stdout",
     "output_type": "stream",
     "text": [
      "aws-lambda.Dockerfile  out.pdf\t\t   Roboto_Condensed\r\n",
      "bin\t\t       output.html\t   Roboto_Condensed.zip\r\n",
      "bin.zip\t\t       postprocess.ipynb   site\r\n",
      "combinedminutes.pdf    postprocess.py\t   uploadWorkingPaper\r\n",
      "mergedfilesoutput.pdf  README.md\t   wp_template.html\r\n",
      "metadata.json\t       research-paper.pdf\r\n"
     ]
    }
   ],
   "source": [
    "!ls"
   ]
  },
  {
   "cell_type": "code",
   "execution_count": 5,
   "metadata": {},
   "outputs": [],
   "source": [
    "with open('metadata.json', 'r') as f:\n",
    "    x = json.load(f)"
   ]
  },
  {
   "cell_type": "code",
   "execution_count": 6,
   "metadata": {},
   "outputs": [
    {
     "data": {
      "text/plain": [
       "{'s3Bucket': 'soda-public', 'folderPath': 'working-papers', 'papers': []}"
      ]
     },
     "execution_count": 6,
     "metadata": {},
     "output_type": "execute_result"
    }
   ],
   "source": [
    "x"
   ]
  },
  {
   "cell_type": "code",
   "execution_count": 8,
   "metadata": {},
   "outputs": [],
   "source": [
    "with open('metadata.json', 'w') as f:\n",
    "    json.dump(x, f)"
   ]
  },
  {
   "cell_type": "code",
   "execution_count": null,
   "metadata": {},
   "outputs": [],
   "source": []
  },
  {
   "cell_type": "code",
   "execution_count": 8,
   "metadata": {},
   "outputs": [],
   "source": [
    "html = \"\"\"<html>\n",
    "<br><a href=\"2020-01.pdf\">2020-01.pdf</a>\n",
    "<br><a href=\"2020-01.rdf\">2020-01.rdf</a>\n",
    "<br><a href=\"2020-02.pdf\">2020-02.pdf</a>\n",
    "<br><a href=\"2020-02.rdf\">2020-02.rdf</a>\n",
    "<br><a href=\"2020-03.pdf\">2020-03.pdf</a>\n",
    "<br><a href=\"2020-03.rdf\">2020-03.rdf</a>\n",
    "<br><a href=\"2020-04.pdf\">2020-04.pdf</a>\n",
    "<br><a href=\"2020-04.rdf\">2020-04.rdf</a>\n",
    "</html>\n",
    "\"\"\"\n"
   ]
  },
  {
   "cell_type": "code",
   "execution_count": 18,
   "metadata": {},
   "outputs": [],
   "source": [
    "def update_dir(file, wpn):\n",
    "    temp = '<br><a href=\"{}\">{}</a>'\n",
    "    html_comps = [element for element in file.split(\"\\n\") if element.strip() != \"\"]\n",
    "    for comp in ['.pdf', '.rdf']:\n",
    "        html_comps.insert(-1, temp.format(wpn + comp, wpn + comp))\n",
    "    return \"\\n\".join(html_comps)"
   ]
  },
  {
   "cell_type": "code",
   "execution_count": 19,
   "metadata": {},
   "outputs": [],
   "source": [
    "x = update_dir(html, '2020-05')"
   ]
  },
  {
   "cell_type": "code",
   "execution_count": 21,
   "metadata": {
    "scrolled": true
   },
   "outputs": [
    {
     "data": {
      "text/plain": [
       "['<html>',\n",
       " '<br><a href=\"2020-01.pdf\">2020-01.pdf</a>',\n",
       " '<br><a href=\"2020-01.rdf\">2020-01.rdf</a>',\n",
       " '<br><a href=\"2020-02.pdf\">2020-02.pdf</a>',\n",
       " '<br><a href=\"2020-02.rdf\">2020-02.rdf</a>',\n",
       " '<br><a href=\"2020-03.pdf\">2020-03.pdf</a>',\n",
       " '<br><a href=\"2020-03.rdf\">2020-03.rdf</a>',\n",
       " '<br><a href=\"2020-04.pdf\">2020-04.pdf</a>',\n",
       " '<br><a href=\"2020-04.rdf\">2020-04.rdf</a>',\n",
       " '<br><a href=\"2020-05.pdf\">2020-05.pdf</a>',\n",
       " '<br><a href=\"2020-05.rdf\">2020-05.rdf</a>',\n",
       " '</html>']"
      ]
     },
     "execution_count": 21,
     "metadata": {},
     "output_type": "execute_result"
    }
   ],
   "source": [
    "x.split(\"\\n\")"
   ]
  },
  {
   "cell_type": "code",
   "execution_count": null,
   "metadata": {},
   "outputs": [],
   "source": []
  }
 ],
 "metadata": {
  "kernelspec": {
   "display_name": "kaggle",
   "language": "python",
   "name": "kaggle"
  },
  "language_info": {
   "codemirror_mode": {
    "name": "ipython",
    "version": 3
   },
   "file_extension": ".py",
   "mimetype": "text/x-python",
   "name": "python",
   "nbconvert_exporter": "python",
   "pygments_lexer": "ipython3",
   "version": "3.8.5"
  }
 },
 "nbformat": 4,
 "nbformat_minor": 4
}
